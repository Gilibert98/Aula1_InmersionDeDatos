{
  "nbformat": 4,
  "nbformat_minor": 0,
  "metadata": {
    "colab": {
      "provenance": [],
      "authorship_tag": "ABX9TyNXIHHCFvKJJ5bPw6Knv8/c",
      "include_colab_link": true
    },
    "kernelspec": {
      "name": "python3",
      "display_name": "Python 3"
    },
    "language_info": {
      "name": "python"
    }
  },
  "cells": [
    {
      "cell_type": "markdown",
      "metadata": {
        "id": "view-in-github",
        "colab_type": "text"
      },
      "source": [
        "<a href=\"https://colab.research.google.com/github/Gilibert98/Aula1_InmersionDeDatos/blob/main/Desaf%C3%ADo_aula1_Inmersion_de_datos.ipynb\" target=\"_parent\"><img src=\"https://colab.research.google.com/assets/colab-badge.svg\" alt=\"Open In Colab\"/></a>"
      ]
    },
    {
      "cell_type": "markdown",
      "source": [
        "# Resolución de los desafíos del Aula 1.\n",
        "\n",
        "\n",
        "1.   Obtener el promedio del área de todos los inmuebles en los barrios en el dataset. Graficar el top 10.\n",
        "2.   Consultar otros datos estadísticos; conteo, mediana, valores mínimo y máximo.\n",
        "\n"
      ],
      "metadata": {
        "id": "73kbrUl-bSdz"
      }
    },
    {
      "cell_type": "markdown",
      "source": [
        "**Parte 1.**\n"
      ],
      "metadata": {
        "id": "lOJ8z7yf4iJC"
      }
    },
    {
      "cell_type": "code",
      "execution_count": 1,
      "metadata": {
        "colab": {
          "base_uri": "https://localhost:8080/"
        },
        "id": "j7JUhugca7JK",
        "outputId": "744efb1a-90a9-467c-cb3f-9f2d5b8ce0b5"
      },
      "outputs": [
        {
          "output_type": "stream",
          "name": "stdout",
          "text": [
            "Mounted at /content/drive\n"
          ]
        }
      ],
      "source": [
        "from google.colab import drive\n",
        "drive.mount('/content/drive')"
      ]
    },
    {
      "cell_type": "code",
      "source": [
        "import pandas as pd"
      ],
      "metadata": {
        "id": "s-pHV7a7cwRZ"
      },
      "execution_count": 2,
      "outputs": []
    },
    {
      "cell_type": "code",
      "source": [
        "inmuebles = pd.read_csv('/content/drive/MyDrive/inmuebles_bogota.csv')"
      ],
      "metadata": {
        "id": "_TZwLWbac1pg"
      },
      "execution_count": 3,
      "outputs": []
    },
    {
      "cell_type": "code",
      "source": [
        "inmuebles.Barrio.value_counts()"
      ],
      "metadata": {
        "id": "Regy4tCYeofI",
        "outputId": "05eb628d-a8b0-4046-9e2e-22183ee875f6",
        "colab": {
          "base_uri": "https://localhost:8080/"
        }
      },
      "execution_count": 4,
      "outputs": [
        {
          "output_type": "execute_result",
          "data": {
            "text/plain": [
              "Usaquén               1105\n",
              "Zona Noroccidental     877\n",
              "Bosa                   589\n",
              "Kennedy                589\n",
              "Cedritos               554\n",
              "                      ... \n",
              "Colinas De Suba          1\n",
              "La Estanzuela            1\n",
              "Roma                     1\n",
              "Alameda                  1\n",
              "Prado Veraniego          1\n",
              "Name: Barrio, Length: 149, dtype: int64"
            ]
          },
          "metadata": {},
          "execution_count": 4
        }
      ]
    },
    {
      "cell_type": "code",
      "source": [
        "columnas = {'Baños':'Banos','Área':'Area'}\n",
        "inmuebles = inmuebles.rename(columns=columnas)"
      ],
      "metadata": {
        "id": "qLYfLrPuqDWK"
      },
      "execution_count": 19,
      "outputs": []
    },
    {
      "cell_type": "code",
      "source": [
        "inmueblesUsaquen = inmuebles[inmuebles.Barrio == 'Usaquén']\n",
        "inmueblesUsaquen.Area.mean()"
      ],
      "metadata": {
        "id": "K-c96tuCnfu8",
        "outputId": "d9da206b-11ee-4259-f5c3-cca4fd6a0880",
        "colab": {
          "base_uri": "https://localhost:8080/"
        }
      },
      "execution_count": 20,
      "outputs": [
        {
          "output_type": "execute_result",
          "data": {
            "text/plain": [
              "134.04615384615386"
            ]
          },
          "metadata": {},
          "execution_count": 20
        }
      ]
    },
    {
      "cell_type": "code",
      "source": [
        "barrios = inmuebles.groupby('Barrio')\n",
        "promedioBarrios = barrios.Area.mean()\n",
        "promedioBarrios"
      ],
      "metadata": {
        "id": "tKA_5GFxynEN",
        "outputId": "d73aed08-5433-4e68-ff63-0d1410387ff1",
        "colab": {
          "base_uri": "https://localhost:8080/"
        }
      },
      "execution_count": 30,
      "outputs": [
        {
          "output_type": "execute_result",
          "data": {
            "text/plain": [
              "Barrio\n",
              "Alameda                97.000000\n",
              "Alhambra              190.411765\n",
              "Andes Norte           124.857143\n",
              "Antonio Nariño        163.062500\n",
              "Barrancas              70.200000\n",
              "                         ...    \n",
              "Villa Maria           207.153846\n",
              "Villas De Granada      86.590909\n",
              "Villemar               76.888889\n",
              "Zona Franca            54.000000\n",
              "Zona Noroccidental    135.785633\n",
              "Name: Area, Length: 149, dtype: float64"
            ]
          },
          "metadata": {},
          "execution_count": 30
        }
      ]
    },
    {
      "cell_type": "code",
      "source": [
        "promedioBarrios.sort_values(axis=0, ascending=False)"
      ],
      "metadata": {
        "id": "uC0aVqaew6mE",
        "outputId": "ff43a83c-ac36-4d57-cd6c-95fec0ab61e8",
        "colab": {
          "base_uri": "https://localhost:8080/"
        }
      },
      "execution_count": 42,
      "outputs": [
        {
          "output_type": "execute_result",
          "data": {
            "text/plain": [
              "Barrio\n",
              "Modelia            4316.750000\n",
              "Libertador          642.000000\n",
              "Bosa Piamonte       400.000000\n",
              "La Soledad          378.625000\n",
              "Restrepo            336.500000\n",
              "                      ...     \n",
              "La Merced            41.000000\n",
              "El Tunal             41.000000\n",
              "San Diego            40.666667\n",
              "La Macarena          37.000000\n",
              "Prado Veraniego      25.000000\n",
              "Name: Area, Length: 149, dtype: float64"
            ]
          },
          "metadata": {},
          "execution_count": 42
        }
      ]
    },
    {
      "cell_type": "code",
      "source": [
        "top10 = promedioBarrios.sort_values(axis=0, ascending=False).head(10)\n",
        "top10"
      ],
      "metadata": {
        "id": "9Dg5mNP036DV",
        "outputId": "8afad767-9638-4f37-fd92-9e1cc79c493b",
        "colab": {
          "base_uri": "https://localhost:8080/"
        }
      },
      "execution_count": 44,
      "outputs": [
        {
          "output_type": "execute_result",
          "data": {
            "text/plain": [
              "Barrio\n",
              "Modelia                  4316.750000\n",
              "Libertador                642.000000\n",
              "Bosa Piamonte             400.000000\n",
              "La Soledad                378.625000\n",
              "Restrepo                  336.500000\n",
              "Santa Librada             328.000000\n",
              "Las Ferias                320.000000\n",
              "Santa Ana                 309.375000\n",
              "Veraguas                  302.666667\n",
              "Bellavista Occidental     286.200000\n",
              "Name: Area, dtype: float64"
            ]
          },
          "metadata": {},
          "execution_count": 44
        }
      ]
    },
    {
      "cell_type": "code",
      "source": [
        "top10.plot.bar()"
      ],
      "metadata": {
        "id": "kJBm0A9Q4Nq2",
        "outputId": "fb93f789-af4d-4481-f1eb-64eeacc93292",
        "colab": {
          "base_uri": "https://localhost:8080/",
          "height": 392
        }
      },
      "execution_count": 45,
      "outputs": [
        {
          "output_type": "execute_result",
          "data": {
            "text/plain": [
              "<Axes: xlabel='Barrio'>"
            ]
          },
          "metadata": {},
          "execution_count": 45
        },
        {
          "output_type": "display_data",
          "data": {
            "text/plain": [
              "<Figure size 432x288 with 1 Axes>"
            ],
            "image/png": "[encoded data removed]"
          },
          "metadata": {
            "needs_background": "light"
          }
        }
      ]
    },
    {
      "cell_type": "markdown",
      "source": [
        "**Parte 2**"
      ],
      "metadata": {
        "id": "4S9pB3lf4pr5"
      }
    },
    {
      "cell_type": "code",
      "source": [
        "conteo_tipo = len(inmuebles.Tipo.value_counts())\n",
        "conteo_tipo"
      ],
      "metadata": {
        "id": "MsQZJITZ8QvI",
        "outputId": "41f00d26-372c-4468-c4f1-9a6d129b66a2",
        "colab": {
          "base_uri": "https://localhost:8080/"
        }
      },
      "execution_count": 55,
      "outputs": [
        {
          "output_type": "execute_result",
          "data": {
            "text/plain": [
              "8"
            ]
          },
          "metadata": {},
          "execution_count": 55
        }
      ]
    },
    {
      "cell_type": "code",
      "source": [
        "conteo_barrios = len(inmuebles.Barrio.value_counts())\n",
        "conteo_barrios"
      ],
      "metadata": {
        "id": "VXZxUIp17jHA",
        "outputId": "2ced7223-0362-4970-c8c6-69fae0acbd04",
        "colab": {
          "base_uri": "https://localhost:8080/"
        }
      },
      "execution_count": 52,
      "outputs": [
        {
          "output_type": "execute_result",
          "data": {
            "text/plain": [
              "149"
            ]
          },
          "metadata": {},
          "execution_count": 52
        }
      ]
    },
    {
      "cell_type": "code",
      "source": [
        "mediana_barrios_area = barrios.Area.median()\n",
        "mediana_barrios_area"
      ],
      "metadata": {
        "id": "DZW_3CgM4unU",
        "outputId": "8091d5aa-7280-43cb-bf92-2f2b92a0277a",
        "colab": {
          "base_uri": "https://localhost:8080/"
        }
      },
      "execution_count": 47,
      "outputs": [
        {
          "output_type": "execute_result",
          "data": {
            "text/plain": [
              "Barrio\n",
              "Alameda                97.0\n",
              "Alhambra              164.0\n",
              "Andes Norte           108.0\n",
              "Antonio Nariño         72.0\n",
              "Barrancas              75.0\n",
              "                      ...  \n",
              "Villa Maria           222.0\n",
              "Villas De Granada      64.0\n",
              "Villemar               59.0\n",
              "Zona Franca            54.0\n",
              "Zona Noroccidental     78.0\n",
              "Name: Area, Length: 149, dtype: float64"
            ]
          },
          "metadata": {},
          "execution_count": 47
        }
      ]
    },
    {
      "cell_type": "code",
      "source": [
        "valorMax_barrios_area = barrios.Area.max()\n",
        "valorMax_barrios_area"
      ],
      "metadata": {
        "id": "FUQzsTWj5gnT",
        "outputId": "d68c1b8b-7c46-40c0-a865-4872af0d5be9",
        "colab": {
          "base_uri": "https://localhost:8080/"
        }
      },
      "execution_count": 48,
      "outputs": [
        {
          "output_type": "execute_result",
          "data": {
            "text/plain": [
              "Barrio\n",
              "Alameda                 97\n",
              "Alhambra               360\n",
              "Andes Norte            180\n",
              "Antonio Nariño         554\n",
              "Barrancas               78\n",
              "                      ... \n",
              "Villa Maria            222\n",
              "Villas De Granada      260\n",
              "Villemar               224\n",
              "Zona Franca             54\n",
              "Zona Noroccidental    5458\n",
              "Name: Area, Length: 149, dtype: int64"
            ]
          },
          "metadata": {},
          "execution_count": 48
        }
      ]
    },
    {
      "cell_type": "code",
      "source": [
        "valorMin_barrios_area = barrios.Area.min()\n",
        "valorMin_barrios_area"
      ],
      "metadata": {
        "id": "BG28oEzf6TWn",
        "outputId": "f8972782-668a-4368-8b53-657504f1164c",
        "colab": {
          "base_uri": "https://localhost:8080/"
        }
      },
      "execution_count": 49,
      "outputs": [
        {
          "output_type": "execute_result",
          "data": {
            "text/plain": [
              "Barrio\n",
              "Alameda               97\n",
              "Alhambra              50\n",
              "Andes Norte           42\n",
              "Antonio Nariño        32\n",
              "Barrancas             63\n",
              "                      ..\n",
              "Villa Maria           51\n",
              "Villas De Granada     50\n",
              "Villemar              45\n",
              "Zona Franca           54\n",
              "Zona Noroccidental    16\n",
              "Name: Area, Length: 149, dtype: int64"
            ]
          },
          "metadata": {},
          "execution_count": 49
        }
      ]
    }
  ]
}